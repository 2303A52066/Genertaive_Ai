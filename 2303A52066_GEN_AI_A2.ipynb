{
  "nbformat": 4,
  "nbformat_minor": 0,
  "metadata": {
    "colab": {
      "provenance": [],
      "include_colab_link": true
    },
    "kernelspec": {
      "name": "python3",
      "display_name": "Python 3"
    },
    "language_info": {
      "name": "python"
    }
  },
  "cells": [
    {
      "cell_type": "markdown",
      "metadata": {
        "id": "view-in-github",
        "colab_type": "text"
      },
      "source": [
        "<a href=\"https://colab.research.google.com/github/2303A52066/Genertaive_Ai/blob/main/2303A52066_GEN_AI_A2.ipynb\" target=\"_parent\"><img src=\"https://colab.research.google.com/assets/colab-badge.svg\" alt=\"Open In Colab\"/></a>"
      ]
    },
    {
      "cell_type": "code",
      "source": [
        "# Coefficients of the objective function (maximize 6x + 5y → minimize -6x -5y)\n",
        "c = [-6, -5]\n",
        "\n",
        "# Coefficients of inequality constraints (Ax ≤ b)\n",
        "A = [[1, 1],   # Milk constraint: x + y ≤ 5\n",
        "     [3, 2]]   # Choco constraint: 3x + 2y ≤ 12\n",
        "\n",
        "b = [5, 12]\n",
        "\n",
        "# Bounds for variables (x ≥ 0, y ≥ 0)\n",
        "x_bounds = (0, None)\n",
        "y_bounds = (0, None)\n",
        "\n",
        "# Solve the linear program\n",
        "res = linprog(c, A_ub=A, b_ub=b, bounds=[x_bounds, y_bounds], method=\"highs\")\n",
        "\n",
        "# Display results\n",
        "if res.success:\n",
        "    print(f\"Optimal solution: A = {res.x[0]:.2f}, B = {res.x[1]:.2f}\")\n",
        "    print(f\"Maximum Profit: Rs {abs(res.fun):.2f}\")\n",
        "else:\n",
        "    print(\"No feasible solution found.\")"
      ],
      "metadata": {
        "colab": {
          "base_uri": "https://localhost:8080/"
        },
        "id": "I42nLkxMJzyU",
        "outputId": "b8531ea4-89e8-4bef-d3a5-3bb5b011828e"
      },
      "execution_count": null,
      "outputs": [
        {
          "output_type": "stream",
          "name": "stdout",
          "text": [
            "Optimal solution: A = 2.00, B = 3.00\n",
            "Maximum Profit: Rs 27.00\n"
          ]
        }
      ]
    },
    {
      "cell_type": "code",
      "source": [
        "\n",
        "\n",
        "# Coefficients of the objective function (maximize 50x + 120y → minimize -50x -120y)\n",
        "c = [-50, -120]\n",
        "\n",
        "# Coefficients of inequality constraints (Ax ≤ b)\n",
        "A = [[1, 1],      # Land constraint: x + y ≤ 110\n",
        "     [7000, 2000], # Budget constraint: 7000x + 2000y ≤ 700000\n",
        "     [10, 30]]    # Labor constraint: 10x + 30y ≤ 1200\n",
        "\n",
        "b = [110, 700000, 1200]\n",
        "\n",
        "# Bounds for variables (x ≥ 0, y ≥ 0)\n",
        "x_bounds = (0, None)\n",
        "y_bounds = (0, None)\n",
        "\n",
        "# Solve the linear program\n",
        "res = linprog(c, A_ub=A, b_ub=b, bounds=[x_bounds, y_bounds], method=\"highs\")\n",
        "\n",
        "# Display results\n",
        "if res.success:\n",
        "    print(f\"Optimal solution: Wheat = {res.x[0]:.2f} hectares, Barley = {res.x[1]:.2f} hectares\")\n",
        "    print(f\"Maximum Profit: Rs {abs(res.fun):.2f}\")\n",
        "else:\n",
        "    print(\"No feasible solution found.\")"
      ],
      "metadata": {
        "colab": {
          "base_uri": "https://localhost:8080/"
        },
        "id": "6ZeJCuyUKPVx",
        "outputId": "115b5742-4d59-49c8-e77e-339c23b4a705"
      },
      "execution_count": null,
      "outputs": [
        {
          "output_type": "stream",
          "name": "stdout",
          "text": [
            "Optimal solution: Wheat = 97.89 hectares, Barley = 7.37 hectares\n",
            "Maximum Profit: Rs 5778.95\n"
          ]
        }
      ]
    }
  ]
}