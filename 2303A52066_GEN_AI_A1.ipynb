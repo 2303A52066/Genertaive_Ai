{
  "nbformat": 4,
  "nbformat_minor": 0,
  "metadata": {
    "colab": {
      "provenance": []
    },
    "kernelspec": {
      "name": "python3",
      "display_name": "Python 3"
    },
    "language_info": {
      "name": "python"
    }
  },
  "cells": [
    {
      "cell_type": "code",
      "execution_count": 3,
      "metadata": {
        "id": "WKfUTAXsKt7q"
      },
      "outputs": [],
      "source": [
        "import numpy as np\n",
        "from sklearn.metrics import mean_absolute_error, mean_squared_error, r2_score\n",
        "\n",
        "actual_values = np.array([20, 30, 40, 50, 60])\n",
        "predicted_values = np.array([20.5, 30.3, 40.2, 50.6, 60.7])"
      ]
    },
    {
      "cell_type": "code",
      "source": [
        "def mean_absolute_error_scratch(y_true, y_pred):\n",
        "    return np.mean(np.abs(y_true - y_pred))\n",
        "\n",
        "def mean_squared_error_scratch(y_true, y_pred):\n",
        "    return np.mean((y_true - y_pred) ** 2)\n",
        "\n",
        "def r2_score_scratch(y_true, y_pred):\n",
        "    ss_total = np.sum((y_true - np.mean(y_true)) ** 2)\n",
        "    ss_residual = np.sum((y_true - y_pred) ** 2)\n",
        "    return 1 - (ss_residual / ss_total)\n"
      ],
      "metadata": {
        "id": "llcCdK7nLQ2M"
      },
      "execution_count": 4,
      "outputs": []
    },
    {
      "cell_type": "code",
      "source": [
        "mae_scratch = mean_absolute_error_scratch(actual_values, predicted_values)\n",
        "mse_scratch = mean_squared_error_scratch(actual_values, predicted_values)\n",
        "r2_scratch = r2_score_scratch(actual_values, predicted_values)\n",
        "\n",
        "print(\"Error Metrics from Scratch:\")\n",
        "print(f\"Mean Absolute Error (MAE): {mae_scratch}\")\n",
        "print(f\"Mean Squared Error (MSE): {mse_scratch}\")\n",
        "print(f\"R2 Score: {r2_scratch}\")"
      ],
      "metadata": {
        "colab": {
          "base_uri": "https://localhost:8080/"
        },
        "id": "IlkO-OwbLU-B",
        "outputId": "144d87d9-fb20-446c-bac5-9e9e3661bc9e"
      },
      "execution_count": 5,
      "outputs": [
        {
          "output_type": "stream",
          "name": "stdout",
          "text": [
            "Error Metrics from Scratch:\n",
            "Mean Absolute Error (MAE): 0.4600000000000016\n",
            "Mean Squared Error (MSE): 0.24600000000000147\n",
            "R2 Score: 0.99877\n"
          ]
        }
      ]
    },
    {
      "cell_type": "code",
      "source": [
        "mae_library = mean_absolute_error(actual_values, predicted_values)\n",
        "mse_library = mean_squared_error(actual_values, predicted_values)\n",
        "r2_library = r2_score(actual_values, predicted_values)\n",
        "\n",
        "print(\"\\nError Metrics using Libraries:\")\n",
        "print(f\"Mean Absolute Error (MAE): {mae_library}\")\n",
        "print(f\"Mean Squared Error (MSE): {mse_library}\")\n",
        "print(f\"R2 Score: {r2_library}\")"
      ],
      "metadata": {
        "colab": {
          "base_uri": "https://localhost:8080/"
        },
        "id": "ph1Y840KLaNC",
        "outputId": "7cc07872-eea2-4605-9f22-5409f6b13b49"
      },
      "execution_count": 6,
      "outputs": [
        {
          "output_type": "stream",
          "name": "stdout",
          "text": [
            "\n",
            "Error Metrics using Libraries:\n",
            "Mean Absolute Error (MAE): 0.4600000000000016\n",
            "Mean Squared Error (MSE): 0.24600000000000147\n",
            "R2 Score: 0.99877\n"
          ]
        }
      ]
    },
    {
      "cell_type": "code",
      "source": [
        "from sklearn.metrics import accuracy_score, precision_score, recall_score, f1_score, confusion_matrix\n"
      ],
      "metadata": {
        "id": "6xZw7TGQLfRa"
      },
      "execution_count": 7,
      "outputs": []
    },
    {
      "cell_type": "code",
      "source": [
        "y_actual = [0, 0, 1, 1, 2, 0, 0, 0, 1, 0, 2, 0, 0, 1, 1, 2, 2, 1, 0, 2, 1, 0, 2, 2, 0, 2, 1, 2, 2, 2]\n",
        "y_pred = [0, 0, 1, 0, 2, 0, 0, 1, 1, 2, 2, 2, 0, 1, 1, 2, 2, 1, 0, 2, 1, 0, 2, 2, 0, 2, 1, 2, 2, 2]\n"
      ],
      "metadata": {
        "id": "HQYtLVffLloS"
      },
      "execution_count": 8,
      "outputs": []
    },
    {
      "cell_type": "code",
      "source": [
        "def accuracy_scratch(y_true, y_pred):\n",
        "    correct_predictions = sum(np.array(y_true) == np.array(y_pred))\n",
        "    return correct_predictions / len(y_true)\n"
      ],
      "metadata": {
        "id": "1t5uOxe9Lo3O"
      },
      "execution_count": 9,
      "outputs": []
    },
    {
      "cell_type": "code",
      "source": [
        "def precision_scratch(y_true, y_pred):\n",
        "    unique_classes = np.unique(y_true)\n",
        "    precision_values = []\n",
        "    for cls in unique_classes:\n",
        "        true_positives = sum((np.array(y_true) == cls) & (np.array(y_pred) == cls))\n",
        "        predicted_positives = sum(np.array(y_pred) == cls)\n",
        "        precision_values.append(true_positives / predicted_positives if predicted_positives > 0 else 0)\n",
        "    return np.mean(precision_values)"
      ],
      "metadata": {
        "id": "xoeNdgDxLreK"
      },
      "execution_count": 10,
      "outputs": []
    },
    {
      "cell_type": "code",
      "source": [
        "def recall_scratch(y_true, y_pred):\n",
        "    unique_classes = np.unique(y_true)\n",
        "    recall_values = []\n",
        "    for cls in unique_classes:\n",
        "        true_positives = sum((np.array(y_true) == cls) & (np.array(y_pred) == cls))\n",
        "        actual_positives = sum(np.array(y_true) == cls)\n",
        "        recall_values.append(true_positives / actual_positives if actual_positives > 0 else 0)\n",
        "    return np.mean(recall_values)"
      ],
      "metadata": {
        "id": "w0-gbn1hLumK"
      },
      "execution_count": 11,
      "outputs": []
    },
    {
      "cell_type": "code",
      "source": [
        "def f1_score_scratch(y_true, y_pred):\n",
        "    precision = precision_scratch(y_true, y_pred)\n",
        "    recall = recall_scratch(y_true, y_pred)\n",
        "    return 2 * (precision * recall) / (precision + recall) if (precision + recall) > 0 else 0"
      ],
      "metadata": {
        "id": "10BclpPyLy0u"
      },
      "execution_count": 12,
      "outputs": []
    },
    {
      "cell_type": "code",
      "source": [
        "accuracy_scratch_value = accuracy_scratch(y_actual, y_pred)\n",
        "precision_scratch_value = precision_scratch(y_actual, y_pred)\n",
        "recall_scratch_value = recall_scratch(y_actual, y_pred)\n",
        "f1_scratch_value = f1_score_scratch(y_actual, y_pred)"
      ],
      "metadata": {
        "id": "qcXmb8KOL4Fg"
      },
      "execution_count": 13,
      "outputs": []
    },
    {
      "cell_type": "code",
      "source": [
        "print(\"\\nEvaluation Metrics from Scratch:\")\n",
        "print(f\"Accuracy: {accuracy_scratch_value}\")\n",
        "print(f\"Precision: {precision_scratch_value}\")\n",
        "print(f\"Recall: {recall_scratch_value}\")\n",
        "print(f\"F1 Score: {f1_scratch_value}\")\n"
      ],
      "metadata": {
        "colab": {
          "base_uri": "https://localhost:8080/"
        },
        "id": "o-y6097eL5sn",
        "outputId": "f3784527-7c64-4bae-a8d3-8f9153e5bc96"
      },
      "execution_count": 14,
      "outputs": [
        {
          "output_type": "stream",
          "name": "stdout",
          "text": [
            "\n",
            "Evaluation Metrics from Scratch:\n",
            "Accuracy: 0.8666666666666667\n",
            "Precision: 0.8700142450142451\n",
            "Recall: 0.8674242424242425\n",
            "F1 Score: 0.8687173132585498\n"
          ]
        }
      ]
    },
    {
      "cell_type": "code",
      "source": [
        "accuracy_library = accuracy_score(y_actual, y_pred)\n",
        "precision_library = precision_score(y_actual, y_pred, average='macro')\n",
        "recall_library = recall_score(y_actual, y_pred, average='macro')\n",
        "f1_library = f1_score(y_actual, y_pred, average='macro')\n"
      ],
      "metadata": {
        "id": "SD_g6v0NL5kh"
      },
      "execution_count": 15,
      "outputs": []
    },
    {
      "cell_type": "code",
      "source": [
        "print(\"\\nEvaluation Metrics using Libraries:\")\n",
        "print(f\"Accuracy: {accuracy_library}\")\n",
        "print(f\"Precision: {precision_library}\")\n",
        "print(f\"Recall: {recall_library}\")\n",
        "print(f\"F1 Score: {f1_library}\")"
      ],
      "metadata": {
        "colab": {
          "base_uri": "https://localhost:8080/"
        },
        "id": "bxwM_ZJAL5fl",
        "outputId": "47e02caf-7d7e-4d66-c65e-0018ff595510"
      },
      "execution_count": 16,
      "outputs": [
        {
          "output_type": "stream",
          "name": "stdout",
          "text": [
            "\n",
            "Evaluation Metrics using Libraries:\n",
            "Accuracy: 0.8666666666666667\n",
            "Precision: 0.8700142450142451\n",
            "Recall: 0.8674242424242425\n",
            "F1 Score: 0.8638888888888889\n"
          ]
        }
      ]
    }
  ]
}