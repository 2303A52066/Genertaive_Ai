{
  "nbformat": 4,
  "nbformat_minor": 0,
  "metadata": {
    "colab": {
      "provenance": [],
      "authorship_tag": "ABX9TyMcWi6HXm2ns06ezRI/2rR5",
      "include_colab_link": true
    },
    "kernelspec": {
      "name": "python3",
      "display_name": "Python 3"
    },
    "language_info": {
      "name": "python"
    }
  },
  "cells": [
    {
      "cell_type": "markdown",
      "metadata": {
        "id": "view-in-github",
        "colab_type": "text"
      },
      "source": [
        "<a href=\"https://colab.research.google.com/github/2303A52066/Genertaive_Ai/blob/main/2303A52066_GEN_AI_A3.ipynb\" target=\"_parent\"><img src=\"https://colab.research.google.com/assets/colab-badge.svg\" alt=\"Open In Colab\"/></a>"
      ]
    },
    {
      "cell_type": "markdown",
      "source": [
        "1"
      ],
      "metadata": {
        "id": "M7XMZKcFT2nK"
      }
    },
    {
      "cell_type": "code",
      "source": [
        "import numpy as np\n"
      ],
      "metadata": {
        "id": "3zYw1NS2S5T8"
      },
      "execution_count": 1,
      "outputs": []
    },
    {
      "cell_type": "code",
      "source": [
        "#f(x) = 5x4 +3x2 +10\n",
        "eta=0.001\n",
        "epochs=1000\n"
      ],
      "metadata": {
        "id": "S1GclkoiS6J7"
      },
      "execution_count": 2,
      "outputs": []
    },
    {
      "cell_type": "code",
      "source": [
        "\n",
        "import random\n",
        "x = random.uniform(-10,10)\n",
        "print(x)\n",
        ""
      ],
      "metadata": {
        "colab": {
          "base_uri": "https://localhost:8080/"
        },
        "id": "OO5FTPXYTJOJ",
        "outputId": "b50d3394-33e3-405e-a736-d116d75a2cc0"
      },
      "execution_count": 3,
      "outputs": [
        {
          "output_type": "stream",
          "name": "stdout",
          "text": [
            "2.0075246322687583\n"
          ]
        }
      ]
    },
    {
      "cell_type": "code",
      "source": [
        "for i in range(epochs):\n",
        "  grad = 20*x**3 + 6*x\n",
        "  delx = -eta*grad\n",
        "  x=x+delx"
      ],
      "metadata": {
        "id": "8g2bqsTwTJD_"
      },
      "execution_count": 4,
      "outputs": []
    },
    {
      "cell_type": "code",
      "source": [
        "np.round(x)"
      ],
      "metadata": {
        "colab": {
          "base_uri": "https://localhost:8080/"
        },
        "id": "0t8aMw_GTMWq",
        "outputId": "33bc928b-78c6-4d68-f599-9175a37a51b6"
      },
      "execution_count": 5,
      "outputs": [
        {
          "output_type": "execute_result",
          "data": {
            "text/plain": [
              "0.0"
            ]
          },
          "metadata": {},
          "execution_count": 5
        }
      ]
    },
    {
      "cell_type": "markdown",
      "source": [
        "2"
      ],
      "metadata": {
        "id": "Cz3cv0jVTS9F"
      }
    },
    {
      "cell_type": "code",
      "source": [
        "#f(x) = 3x2 +5e−y +10\n",
        "import math\n",
        ""
      ],
      "metadata": {
        "id": "nDTem1DuTMUV"
      },
      "execution_count": 6,
      "outputs": []
    },
    {
      "cell_type": "code",
      "source": [
        "eta=0.001\n",
        "epochs = 1000\n",
        "x=random.uniform(-10,10)\n",
        "y=random.uniform(-10,10)\n",
        "for i in range(epochs):\n",
        "  grad_x=6*x\n",
        "  grad_y=-5*math.exp(-y)\n",
        "  delx=-eta*grad_x\n",
        "  dely=-eta*grad_y\n",
        "  x=x+delx\n",
        "  y=y+dely"
      ],
      "metadata": {
        "id": "O0O4gQY7TMSN"
      },
      "execution_count": 7,
      "outputs": []
    },
    {
      "cell_type": "code",
      "source": [
        "print(np.round(x))\n",
        "print(np.round(y))\n",
        ""
      ],
      "metadata": {
        "colab": {
          "base_uri": "https://localhost:8080/"
        },
        "id": "Of-n5c55TMQy",
        "outputId": "a1d4b175-f5b4-4082-9e44-427d9604a696"
      },
      "execution_count": 8,
      "outputs": [
        {
          "output_type": "stream",
          "name": "stdout",
          "text": [
            "0.0\n",
            "82.0\n"
          ]
        }
      ]
    },
    {
      "cell_type": "markdown",
      "source": [
        "3"
      ],
      "metadata": {
        "id": "wIu8Gw9HTbx8"
      }
    },
    {
      "cell_type": "code",
      "source": [
        "#f(x) = 1/(1+e^-x)\n",
        "import math\n",
        ""
      ],
      "metadata": {
        "id": "_HbL8Zc0TMNA"
      },
      "execution_count": 9,
      "outputs": []
    },
    {
      "cell_type": "code",
      "source": [
        "eta=0.001\n",
        "epochs = 1000\n",
        "x=random.uniform(-10,10)\n",
        "for i in range(epochs):\n",
        "    z = 1 / (1 + math.exp(-x))\n",
        "    grad = z * (1 - z)\n",
        "    delx = -eta * grad\n",
        "    x = x + delx\n",
        "\n",
        ""
      ],
      "metadata": {
        "id": "fgeVgkaxTMLO"
      },
      "execution_count": 10,
      "outputs": []
    },
    {
      "cell_type": "code",
      "source": [
        "print(np.round(x))\n"
      ],
      "metadata": {
        "colab": {
          "base_uri": "https://localhost:8080/"
        },
        "id": "5Pry-kbCTfHe",
        "outputId": "c0d5e03b-ba01-46a6-a239-be349977fdce"
      },
      "execution_count": 11,
      "outputs": [
        {
          "output_type": "stream",
          "name": "stdout",
          "text": [
            "7.0\n"
          ]
        }
      ]
    },
    {
      "cell_type": "markdown",
      "source": [
        "4"
      ],
      "metadata": {
        "id": "mzZWOcniTmgZ"
      }
    },
    {
      "cell_type": "code",
      "source": [
        "# y= mx+c"
      ],
      "metadata": {
        "id": "S8myU6dMTpC3"
      },
      "execution_count": 12,
      "outputs": []
    },
    {
      "cell_type": "code",
      "source": [
        "eta=0.001\n",
        "epochs = 1000\n",
        "m=random.uniform(-10,10)\n",
        "c=random.uniform(-10,10)\n",
        "x=2\n",
        "ep=0.5\n",
        "se=0\n",
        ""
      ],
      "metadata": {
        "id": "OoEE86TsTpAl"
      },
      "execution_count": 13,
      "outputs": []
    },
    {
      "cell_type": "code",
      "source": [
        "for i in range(epochs):\n",
        "  grad_x=x\n",
        "  grad_y=1\n",
        "  delx=-eta*grad_x\n",
        "  dely=-eta*grad_y\n",
        "  m=m+delx\n",
        "  c=c+dely\n",
        "  y=m*x+c\n",
        "  se=min(se,(y-ep)**2)\n",
        "\n"
      ],
      "metadata": {
        "id": "Gz8cI-_kTo7Y"
      },
      "execution_count": 14,
      "outputs": []
    },
    {
      "cell_type": "code",
      "source": [
        "for i in range(epochs):\n",
        "  grad_x=x\n",
        "  grad_y=1\n",
        "  delx=-eta*grad_x\n",
        "  dely=-eta*grad_y\n",
        "  m=m+delx\n",
        "  c=c+dely\n",
        "  y=m*x+c\n",
        "  se=min(se,(y-ep)**2)"
      ],
      "metadata": {
        "id": "OjCvXyE9Tv3o"
      },
      "execution_count": 15,
      "outputs": []
    },
    {
      "cell_type": "code",
      "source": [
        "print(np.round(m))\n",
        "print(np.round(c))"
      ],
      "metadata": {
        "colab": {
          "base_uri": "https://localhost:8080/"
        },
        "id": "X91u9CsKTz1i",
        "outputId": "3b416cfc-3229-4983-e987-ae8df48cbfde"
      },
      "execution_count": 16,
      "outputs": [
        {
          "output_type": "stream",
          "name": "stdout",
          "text": [
            "-3.0\n",
            "1.0\n"
          ]
        }
      ]
    },
    {
      "cell_type": "code",
      "source": [
        "print(se)"
      ],
      "metadata": {
        "colab": {
          "base_uri": "https://localhost:8080/"
        },
        "id": "Tl0q1kztT1qe",
        "outputId": "f90ec0ed-fad1-4a64-e2e8-e55781757bce"
      },
      "execution_count": 17,
      "outputs": [
        {
          "output_type": "stream",
          "name": "stdout",
          "text": [
            "0\n"
          ]
        }
      ]
    }
  ]
}